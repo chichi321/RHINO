{
 "cells": [
  {
   "cell_type": "code",
   "execution_count": 1,
   "metadata": {},
   "outputs": [],
   "source": [
    "import pandas as pd\n",
    "import numpy as np"
   ]
  },
  {
   "cell_type": "code",
   "execution_count": 2,
   "metadata": {},
   "outputs": [
    {
     "data": {
      "text/html": [
       "<div>\n",
       "<style scoped>\n",
       "    .dataframe tbody tr th:only-of-type {\n",
       "        vertical-align: middle;\n",
       "    }\n",
       "\n",
       "    .dataframe tbody tr th {\n",
       "        vertical-align: top;\n",
       "    }\n",
       "\n",
       "    .dataframe thead th {\n",
       "        text-align: right;\n",
       "    }\n",
       "</style>\n",
       "<table border=\"1\" class=\"dataframe\">\n",
       "  <thead>\n",
       "    <tr style=\"text-align: right;\">\n",
       "      <th></th>\n",
       "      <th>user_ID</th>\n",
       "      <th>group_ID</th>\n",
       "      <th>submit_time</th>\n",
       "      <th>start_time</th>\n",
       "      <th>end_time</th>\n",
       "      <th>wallclock_limit</th>\n",
       "      <th>job_status</th>\n",
       "      <th>node_count</th>\n",
       "      <th>tasks_requested</th>\n",
       "    </tr>\n",
       "  </thead>\n",
       "  <tbody>\n",
       "    <tr>\n",
       "      <th>0</th>\n",
       "      <td>351</td>\n",
       "      <td>354</td>\n",
       "      <td>2011-10-27 10:50:10-06:00</td>\n",
       "      <td>2011-10-27 11:49:02-06:00</td>\n",
       "      <td>2011-10-27 11:50:36-06:00</td>\n",
       "      <td>365 days 00:00:00.000000000</td>\n",
       "      <td>CANCELLED</td>\n",
       "      <td>1</td>\n",
       "      <td>24</td>\n",
       "    </tr>\n",
       "    <tr>\n",
       "      <th>1</th>\n",
       "      <td>351</td>\n",
       "      <td>354</td>\n",
       "      <td>2011-10-27 11:50:46-06:00</td>\n",
       "      <td>2011-10-27 11:51:06-06:00</td>\n",
       "      <td>2011-10-27 11:51:13-06:00</td>\n",
       "      <td>365 days 00:00:00.000000000</td>\n",
       "      <td>COMPLETED</td>\n",
       "      <td>1</td>\n",
       "      <td>24</td>\n",
       "    </tr>\n",
       "    <tr>\n",
       "      <th>2</th>\n",
       "      <td>287</td>\n",
       "      <td>288</td>\n",
       "      <td>2011-10-27 12:02:50-06:00</td>\n",
       "      <td>2011-10-27 12:03:08-06:00</td>\n",
       "      <td>2011-10-27 12:03:13-06:00</td>\n",
       "      <td>365 days 00:00:00.000000000</td>\n",
       "      <td>COMPLETED</td>\n",
       "      <td>1</td>\n",
       "      <td>24</td>\n",
       "    </tr>\n",
       "    <tr>\n",
       "      <th>3</th>\n",
       "      <td>287</td>\n",
       "      <td>288</td>\n",
       "      <td>2011-10-27 12:02:29-06:00</td>\n",
       "      <td>2011-10-27 12:02:36-06:00</td>\n",
       "      <td>2011-10-27 12:03:14-06:00</td>\n",
       "      <td>365 days 00:00:00.000000000</td>\n",
       "      <td>COMPLETED</td>\n",
       "      <td>1</td>\n",
       "      <td>24</td>\n",
       "    </tr>\n",
       "    <tr>\n",
       "      <th>4</th>\n",
       "      <td>351</td>\n",
       "      <td>354</td>\n",
       "      <td>2011-10-27 12:02:26-06:00</td>\n",
       "      <td>2011-10-27 12:02:36-06:00</td>\n",
       "      <td>2011-10-27 12:03:18-06:00</td>\n",
       "      <td>365 days 00:00:00.000000000</td>\n",
       "      <td>COMPLETED</td>\n",
       "      <td>800</td>\n",
       "      <td>19200</td>\n",
       "    </tr>\n",
       "  </tbody>\n",
       "</table>\n",
       "</div>"
      ],
      "text/plain": [
       "   user_ID  group_ID                submit_time                 start_time  \\\n",
       "0      351       354  2011-10-27 10:50:10-06:00  2011-10-27 11:49:02-06:00   \n",
       "1      351       354  2011-10-27 11:50:46-06:00  2011-10-27 11:51:06-06:00   \n",
       "2      287       288  2011-10-27 12:02:50-06:00  2011-10-27 12:03:08-06:00   \n",
       "3      287       288  2011-10-27 12:02:29-06:00  2011-10-27 12:02:36-06:00   \n",
       "4      351       354  2011-10-27 12:02:26-06:00  2011-10-27 12:02:36-06:00   \n",
       "\n",
       "                    end_time              wallclock_limit job_status  \\\n",
       "0  2011-10-27 11:50:36-06:00  365 days 00:00:00.000000000  CANCELLED   \n",
       "1  2011-10-27 11:51:13-06:00  365 days 00:00:00.000000000  COMPLETED   \n",
       "2  2011-10-27 12:03:13-06:00  365 days 00:00:00.000000000  COMPLETED   \n",
       "3  2011-10-27 12:03:14-06:00  365 days 00:00:00.000000000  COMPLETED   \n",
       "4  2011-10-27 12:03:18-06:00  365 days 00:00:00.000000000  COMPLETED   \n",
       "\n",
       "   node_count  tasks_requested  \n",
       "0           1               24  \n",
       "1           1               24  \n",
       "2           1               24  \n",
       "3           1               24  \n",
       "4         800            19200  "
      ]
     },
     "execution_count": 2,
     "metadata": {},
     "output_type": "execute_result"
    }
   ],
   "source": [
    "df = pd.read_csv(\"mustang_release_v0.2.0.csv\")\n",
    "df.head()"
   ]
  },
  {
   "cell_type": "code",
   "execution_count": 3,
   "metadata": {},
   "outputs": [],
   "source": [
    "df = df.dropna()\n",
    "df = df[df['job_status'] != 'CANCELLED']\n",
    "\n",
    "# Convert the 'submit_time' and 'start_time' columns to datetime\n",
    "df['submit_time'] = pd.to_datetime(df['submit_time'], utc=True)\n",
    "df['start_time'] = pd.to_datetime(df['start_time'], utc=True)\n",
    "df['end_time'] = pd.to_datetime(df['end_time'], utc=True)\n",
    "\n",
    "# Calculate the wait time and run time in seconds\n",
    "df['wait_time'] = (df['start_time'] - df['submit_time']).dt.total_seconds()\n",
    "df['run_time'] = (df['end_time'] - df['start_time']).dt.total_seconds()"
   ]
  },
  {
   "cell_type": "code",
   "execution_count": 4,
   "metadata": {},
   "outputs": [
    {
     "data": {
      "text/html": [
       "<div>\n",
       "<style scoped>\n",
       "    .dataframe tbody tr th:only-of-type {\n",
       "        vertical-align: middle;\n",
       "    }\n",
       "\n",
       "    .dataframe tbody tr th {\n",
       "        vertical-align: top;\n",
       "    }\n",
       "\n",
       "    .dataframe thead th {\n",
       "        text-align: right;\n",
       "    }\n",
       "</style>\n",
       "<table border=\"1\" class=\"dataframe\">\n",
       "  <thead>\n",
       "    <tr style=\"text-align: right;\">\n",
       "      <th></th>\n",
       "      <th>wait_time</th>\n",
       "      <th>run_time</th>\n",
       "      <th>node_count</th>\n",
       "    </tr>\n",
       "  </thead>\n",
       "  <tbody>\n",
       "    <tr>\n",
       "      <th>1</th>\n",
       "      <td>20.0</td>\n",
       "      <td>7.0</td>\n",
       "      <td>1</td>\n",
       "    </tr>\n",
       "    <tr>\n",
       "      <th>2</th>\n",
       "      <td>18.0</td>\n",
       "      <td>5.0</td>\n",
       "      <td>1</td>\n",
       "    </tr>\n",
       "    <tr>\n",
       "      <th>3</th>\n",
       "      <td>7.0</td>\n",
       "      <td>38.0</td>\n",
       "      <td>1</td>\n",
       "    </tr>\n",
       "    <tr>\n",
       "      <th>4</th>\n",
       "      <td>10.0</td>\n",
       "      <td>42.0</td>\n",
       "      <td>800</td>\n",
       "    </tr>\n",
       "    <tr>\n",
       "      <th>5</th>\n",
       "      <td>2.0</td>\n",
       "      <td>8.0</td>\n",
       "      <td>1</td>\n",
       "    </tr>\n",
       "  </tbody>\n",
       "</table>\n",
       "</div>"
      ],
      "text/plain": [
       "   wait_time  run_time  node_count\n",
       "1       20.0       7.0           1\n",
       "2       18.0       5.0           1\n",
       "3        7.0      38.0           1\n",
       "4       10.0      42.0         800\n",
       "5        2.0       8.0           1"
      ]
     },
     "execution_count": 4,
     "metadata": {},
     "output_type": "execute_result"
    }
   ],
   "source": [
    "df_job = df[[\"wait_time\", \"run_time\", \"node_count\"]]\n",
    "df_job.head()"
   ]
  },
  {
   "cell_type": "code",
   "execution_count": 5,
   "metadata": {},
   "outputs": [
    {
     "name": "stdout",
     "output_type": "stream",
     "text": [
      "         wait_time  run_time  node_count\n",
      "1262           0.0    1769.0          64\n",
      "1302           0.0    1790.0          64\n",
      "1765        2105.0       0.0           0\n",
      "1766          43.0       0.0           0\n",
      "1767          27.0       0.0           0\n",
      "...            ...       ...         ...\n",
      "2100461        9.0       0.0           0\n",
      "2100574        3.0       0.0           0\n",
      "2104021        4.0       0.0           0\n",
      "2104612        3.0       0.0           0\n",
      "2105331        7.0       0.0           0\n",
      "\n",
      "[23537 rows x 3 columns]\n"
     ]
    }
   ],
   "source": [
    "rows_with_zeros = (df_job == 0).any(axis=1)\n",
    "print(df_job[rows_with_zeros])"
   ]
  },
  {
   "cell_type": "code",
   "execution_count": 6,
   "metadata": {},
   "outputs": [],
   "source": [
    "df_job = df_job.loc[~(df_job==0).any(axis=1)]\n",
    "df_job.to_csv('mustang_data.csv', index=False)"
   ]
  }
 ],
 "metadata": {
  "kernelspec": {
   "display_name": "Python 3.9.13 ('base')",
   "language": "python",
   "name": "python3"
  },
  "language_info": {
   "codemirror_mode": {
    "name": "ipython",
    "version": 3
   },
   "file_extension": ".py",
   "mimetype": "text/x-python",
   "name": "python",
   "nbconvert_exporter": "python",
   "pygments_lexer": "ipython3",
   "version": "3.11.8"
  },
  "orig_nbformat": 4,
  "vscode": {
   "interpreter": {
    "hash": "500f5463fac522d16f5fb9404df998bb0ad5e12309a861215c38bf8abd0287f6"
   }
  }
 },
 "nbformat": 4,
 "nbformat_minor": 2
}
